{
 "cells": [
  {
   "cell_type": "code",
   "execution_count": 14,
   "metadata": {},
   "outputs": [
    {
     "name": "stdout",
     "output_type": "stream",
     "text": [
      "day # 1  The snail has advanced a total of 30 cms.\n",
      "day # 2  The snail has advanced a total of 30 cms.\n",
      "day # 3  The snail has advanced a total of 30 cms.\n",
      "day # 4  The snail has advanced a total of 30 cms.\n",
      "day # 5  The snail has advanced a total of 30 cms.\n",
      "day # 6  The snail has advanced a total of 30 cms.\n",
      "day # 7  The snail has advanced a total of 30 cms.\n",
      "day # 8  The snail has advanced a total of 30 cms.\n",
      "day # 9  The snail has advanced a total of 30 cms.\n",
      "day # 10  The snail has advanced a total of 30 cms.\n",
      "day # 11  The snail has advanced a total of 30 cms.\n",
      "day # 12  The snail has advanced a total of 30 cms.\n",
      "day # 13  The snail has advanced a total of 30 cms.\n",
      "Congratulations, \n",
      "the snail got out of the well!\n"
     ]
    }
   ],
   "source": [
    "well_height = 125\n",
    "snail_position = 0\n",
    "nightly_distance  = 20\n",
    "daily_distance = 30\n",
    "counter = 0\n",
    "\n",
    "while snail_position < well_height:\n",
    "    snail_position = daily_distance + snail_position - nightly_distance \n",
    "    counter += 1\n",
    "    print(\"day #\",counter,\" The snail has advanced a total of\", daily_distance,\"cms.\")\n",
    "\n",
    "print(\"Congratulations, \\nthe snail got out of the well!\")"
   ]
  }
 ],
 "metadata": {
  "kernelspec": {
   "display_name": "Python 3",
   "language": "python",
   "name": "python3"
  },
  "language_info": {
   "codemirror_mode": {
    "name": "ipython",
    "version": 3
   },
   "file_extension": ".py",
   "mimetype": "text/x-python",
   "name": "python",
   "nbconvert_exporter": "python",
   "pygments_lexer": "ipython3",
   "version": "3.8.3"
  }
 },
 "nbformat": 4,
 "nbformat_minor": 4
}
