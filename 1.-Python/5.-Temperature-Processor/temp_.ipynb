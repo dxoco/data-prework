{
 "cells": [
  {
   "cell_type": "code",
   "execution_count": 25,
   "metadata": {},
   "outputs": [
    {
     "name": "stdout",
     "output_type": "stream",
     "text": [
      "1. min temp: 0 \n",
      "2. max temp: 90 \n",
      "3. temps above 70°C: [70, 76, 80, 81, 80, 83, 90, 79] \n",
      "4. average: 60.25 \n",
      "5. new 3am temp: 60\n"
     ]
    }
   ],
   "source": [
    "temperatures_C = [33, 66, 65, 0, 59, 60, 62, 64, 70, 76, 80, 81, 80, 83, 90, 79, 61, 53, 50, 49, 53, 48, 45, 39]\n",
    "\n",
    "min_temp = min(temperatures_C)\n",
    "max_temp = max(temperatures_C)\n",
    "temp70=[]\n",
    "t=0\n",
    "for t in range(len(temperatures_C)):\n",
    "    if temperatures_C[t] >= 70:\n",
    "        temp70.append(temperatures_C[t])\n",
    "\n",
    "ave = sum(temperatures_C)/len(temperatures_C)\n",
    "temperatures_C[3] = round(ave)        \n",
    "print(\"1. min temp:\",min_temp, \"\\n2. max temp:\",max_temp,\"\\n3. temps above 70°C:\", temp70, \"\\n4. average:\",ave,\"\\n5. new 3am temp:\",temperatures_C[3])\n"
   ]
  }
 ],
 "metadata": {
  "kernelspec": {
   "display_name": "Python 3",
   "language": "python",
   "name": "python3"
  },
  "language_info": {
   "codemirror_mode": {
    "name": "ipython",
    "version": 3
   },
   "file_extension": ".py",
   "mimetype": "text/x-python",
   "name": "python",
   "nbconvert_exporter": "python",
   "pygments_lexer": "ipython3",
   "version": "3.8.3"
  }
 },
 "nbformat": 4,
 "nbformat_minor": 4
}
