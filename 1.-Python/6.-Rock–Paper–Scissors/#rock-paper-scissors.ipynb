{
 "cells": [
  {
   "cell_type": "code",
   "execution_count": 285,
   "metadata": {},
   "outputs": [
    {
     "name": "stdout",
     "output_type": "stream",
     "text": [
      "how many rounds do you want to play?(only odd numebrs, pls): 5\n",
      "rounds_to_win: 3 \n",
      "\n",
      "choose between 'rock', 'paper', 'scissors':\tpaper\n",
      "\tround # 1 player choose paper vs. computer choose scissors \n",
      "\n",
      "choose between 'rock', 'paper', 'scissors':\trock\n",
      "\tround # 2 player choose rock vs. computer choose rock \n",
      "\n",
      "choose between 'rock', 'paper', 'scissors':\trock\n",
      "\tround # 3 player choose rock vs. computer choose rock \n",
      "\n",
      "choose between 'rock', 'paper', 'scissors':\tpaper\n",
      "\tround # 4 player choose paper vs. computer choose scissors \n",
      "\n",
      "choose between 'rock', 'paper', 'scissors':\trock\n",
      "\tround # 5 player choose rock vs. computer choose paper \n",
      "\n",
      "\n",
      "cpu_score: 3 \n",
      "player_score: 0 \n",
      "tie 2\n",
      "\n",
      "\n",
      "\t\t***\tComputer Wins!!\t***\n"
     ]
    }
   ],
   "source": [
    "#rock-paper-scissors\n",
    "\n",
    "import random\n",
    "import math\n",
    "r=0\n",
    "p=0\n",
    "s=0\n",
    "tie = 0\n",
    "rounds_to_win=0\n",
    "cpu_score=0\n",
    "player_score=0\n",
    "\n",
    "n_rounds = int(input(\"how many rounds do you want to play?(only odd numebrs, pls): \"))\n",
    "while n_rounds%2 == 0:\n",
    "    n_rounds = int(input(\"how many rounds do you want to play?(only odd numebrs, pls): \"))\n",
    "    \n",
    "rounds_to_win = math.ceil(n_rounds/2)\n",
    "print(\"rounds_to_win:\",rounds_to_win,\"\\n\")\n",
    "\n",
    "for i in range(0,n_rounds):\n",
    "    waa = random.choice([\"rock\",\"paper\",\"scissors\"])\n",
    "    player_play = input(\"choose between 'rock', 'paper', 'scissors':\\t\")\n",
    "    print(\"\\tround #\",i+1,\"player choose\", player_play,\"vs. computer choose\",waa,\"\\n\")\n",
    "    if waa == player_play:\n",
    "        tie += 1\n",
    "    elif waa == \"rock\" and player_play == \"paper\":\n",
    "        player_score += 1\n",
    "    elif waa == \"rock\" and player_play == \"scissors\":\n",
    "        cpu_score += 1\n",
    "    elif waa == \"paper\" and player_play == \"rock\":\n",
    "        cpu_score += 1\n",
    "    elif waa == \"paper\" and player_play == \"scissors\":\n",
    "        player_score += 1\n",
    "    elif waa == \"scissors\" and player_play == \"paper\":\n",
    "        cpu_score += 1\n",
    "    elif waa == \"scissors\" and player_play == \"rock\":\n",
    "        player_score += 1\n",
    "    i+=1\n",
    "    \n",
    "print(\"\\ncpu_score:\",cpu_score,\"\\nplayer_score:\",player_score,\"\\ntie\",tie)\n",
    "if cpu_score > player_score:\n",
    "    print(\"\\n\\n\\t\\t***\\tComputer Wins!!\\t***\")\n",
    "elif cpu_score < player_score:\n",
    "    print(\"\\n\\n\\t\\t***\\tPlayer Wins!!\\t***\")\n",
    "else:\n",
    "    print(\"\\n\\n\\t\\t***\\tthis is a tie\\t***\")"
   ]
  },
  {
   "cell_type": "code",
   "execution_count": null,
   "metadata": {},
   "outputs": [],
   "source": [
    "rock"
   ]
  }
 ],
 "metadata": {
  "kernelspec": {
   "display_name": "Python 3",
   "language": "python",
   "name": "python3"
  },
  "language_info": {
   "codemirror_mode": {
    "name": "ipython",
    "version": 3
   },
   "file_extension": ".py",
   "mimetype": "text/x-python",
   "name": "python",
   "nbconvert_exporter": "python",
   "pygments_lexer": "ipython3",
   "version": "3.8.3"
  }
 },
 "nbformat": 4,
 "nbformat_minor": 4
}
