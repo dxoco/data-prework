{
 "cells": [
  {
   "cell_type": "code",
   "execution_count": 22,
   "metadata": {},
   "outputs": [
    {
     "name": "stdout",
     "output_type": "stream",
     "text": [
      "point for saruman!\n",
      "point for saruman!\n",
      "point for gandalf!\n",
      "point for saruman!\n",
      "point for gandalf!\n",
      "point for gandalf!\n",
      "point for saruman!\n",
      "point for gandalf!\n",
      "point for gandalf!\n",
      "point for gandalf!\n",
      "\n",
      "gandalf won the duel!\n"
     ]
    }
   ],
   "source": [
    "gandalf = [10, 11, 13, 30, 22, 11, 10, 33, 22, 22]\n",
    "saruman = [23, 66, 12, 43, 12, 10, 44, 23, 12, 17]\n",
    "spells = len(saruman)\n",
    "\n",
    "gandalf_wins = 0\n",
    "saruman_wins = 0\n",
    "\n",
    "for spell in range(spells):\n",
    "    if gandalf[spell] > saruman[spell]:\n",
    "        gandalf_wins = gandalf_wins + 1\n",
    "        print(\"point for gandalf!\")\n",
    "    else:\n",
    "        saruman_wins = saruman_wins + 1\n",
    "        print(\"point for saruman!\")\n",
    "\n",
    "if gandalf_wins > saruman_wins:\n",
    "    print(\"\\ngandalf won the duel!\")\n",
    "elif saruman_wins > gandalf_wins:\n",
    "    print(\"saruman won the duel!\")\n",
    "else:\n",
    "    print(\"tie!\")"
   ]
  },
  {
   "cell_type": "code",
   "execution_count": null,
   "metadata": {},
   "outputs": [],
   "source": []
  }
 ],
 "metadata": {
  "kernelspec": {
   "display_name": "Python 3",
   "language": "python",
   "name": "python3"
  },
  "language_info": {
   "codemirror_mode": {
    "name": "ipython",
    "version": 3
   },
   "file_extension": ".py",
   "mimetype": "text/x-python",
   "name": "python",
   "nbconvert_exporter": "python",
   "pygments_lexer": "ipython3",
   "version": "3.8.3"
  }
 },
 "nbformat": 4,
 "nbformat_minor": 4
}
