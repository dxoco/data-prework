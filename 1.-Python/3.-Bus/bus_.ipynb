{
 "cells": [
  {
   "cell_type": "code",
   "execution_count": 109,
   "metadata": {},
   "outputs": [
    {
     "name": "stdout",
     "output_type": "stream",
     "text": [
      "1. number of stops: 9\n",
      "\n",
      "2. passengers at each stop: [10, 13, 11, 10, 14, 10, 7, 5, 4]\n",
      "\n",
      "3. max occupation was: 14 guys\n",
      "\n",
      "4a. average was: 9.333333333333334 guys\n",
      "\n",
      "4b. standard deviation was:  3.197221015541813\n"
     ]
    }
   ],
   "source": [
    "stops = [(10, 0), (4, 1), (3, 5), (3, 4), (5, 1), (1, 5), (5, 8), (4, 6), (2, 3)]\n",
    "\n",
    "how_many = len(stops)\n",
    "\n",
    "i = 0\n",
    "guys_in_bus = 0\n",
    "check_list = []\n",
    "\n",
    "for i in range(how_many):\n",
    "    guys_in_bus = stops[i][0] - stops[i][1] + guys_in_bus\n",
    "    check_list.append(guys_in_bus)\n",
    "\n",
    "ave = sum(check_list)/len(check_list)\n",
    "\n",
    "#--\n",
    "new_list = []\n",
    "for j in range(len(check_list)):\n",
    "    new_list.append((check_list[j]-ave)**2)\n",
    "\n",
    "SumSum = sum(new_list)/len(check_list) \n",
    "bbb = SumSum ** 0.5\n",
    "    \n",
    "#--\n",
    "print(\"1. number of stops:\",how_many)\n",
    "print(\"\\n2. passengers at each stop:\",check_list)\n",
    "print(\"\\n3. max occupation was:\",max(check_list),\"guys\")\n",
    "print(\"\\n4a. average was:\",ave,\"guys\")\n",
    "print(\"\\n4b. standard deviation was: \",bbb)\n",
    "\n"
   ]
  }
 ],
 "metadata": {
  "kernelspec": {
   "display_name": "Python 3",
   "language": "python",
   "name": "python3"
  },
  "language_info": {
   "codemirror_mode": {
    "name": "ipython",
    "version": 3
   },
   "file_extension": ".py",
   "mimetype": "text/x-python",
   "name": "python",
   "nbconvert_exporter": "python",
   "pygments_lexer": "ipython3",
   "version": "3.8.3"
  }
 },
 "nbformat": 4,
 "nbformat_minor": 4
}
